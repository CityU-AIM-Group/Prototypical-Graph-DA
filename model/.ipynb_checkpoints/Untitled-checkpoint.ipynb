{
 "cells": [
  {
   "cell_type": "code",
   "execution_count": 1,
   "metadata": {},
   "outputs": [],
   "source": [
    "from IPython.core.interactiveshell import InteractiveShell\n",
    "InteractiveShell.ast_node_interactivity = \"all\"\n",
    "%load_ext autoreload\n",
    "%autoreload 2"
   ]
  },
  {
   "cell_type": "code",
   "execution_count": 2,
   "metadata": {},
   "outputs": [],
   "source": [
    "import sys\n",
    "sys.path.append(\"..\")\n",
    "from feature_extractor import ResBackbone\n",
    "from config.config import cfg\n",
    "from dataset.gta5_dataset import GTA5DataSet\n",
    "from dataset.cityscapes_dataset import CityscapesDataSet\n",
    "from config.config import cfg\n",
    "from torch.utils import data\n",
    "import torch\n",
    "import torch.nn as nn\n",
    "from torch.autograd import Variable\n",
    "import numpy as np\n",
    "import torch.nn.functional as F"
   ]
  },
  {
   "cell_type": "code",
   "execution_count": 5,
   "metadata": {
    "scrolled": true
   },
   "outputs": [
    {
     "data": {
      "text/plain": [
       "\"\\ndst = GTA5DataSet(root='/home/jay/data/GTA5',\\n        list_path='/home/jay/code_jay/graph_domain_all/graph_domain_master/core/dataset/gta5_list/train.txt',\\n        mirror_prob=0,\\n        crop_size=(1280, 720))\\ntrainloader = data.DataLoader(dst, batch_size=1,\\n                                    num_workers=1,\\n                                    shuffle=True,\\n                                    pin_memory=True)\\n\""
      ]
     },
     "execution_count": 5,
     "metadata": {},
     "output_type": "execute_result"
    },
    {
     "name": "stdout",
     "output_type": "stream",
     "text": [
      "b_ave tensor(75.2465)\n",
      "g_ave tensor(85.1938)\n",
      "r_ave tensor(75.3622)\n"
     ]
    },
    {
     "ename": "NameError",
     "evalue": "name 'dst' is not defined",
     "output_type": "error",
     "traceback": [
      "\u001b[0;31m---------------------------------------------------------------------------\u001b[0m",
      "\u001b[0;31mNameError\u001b[0m                                 Traceback (most recent call last)",
      "\u001b[0;32m<ipython-input-5-48124edbed99>\u001b[0m in \u001b[0;36m<module>\u001b[0;34m\u001b[0m\n\u001b[1;32m     50\u001b[0m     \u001b[0;32mif\u001b[0m \u001b[0mi\u001b[0m \u001b[0;34m%\u001b[0m \u001b[0;36m1000\u001b[0m \u001b[0;34m==\u001b[0m \u001b[0;36m999\u001b[0m\u001b[0;34m:\u001b[0m\u001b[0;34m\u001b[0m\u001b[0;34m\u001b[0m\u001b[0m\n\u001b[1;32m     51\u001b[0m         \u001b[0mprint\u001b[0m\u001b[0;34m(\u001b[0m\u001b[0mi\u001b[0m\u001b[0;34m)\u001b[0m\u001b[0;34m\u001b[0m\u001b[0;34m\u001b[0m\u001b[0m\n\u001b[0;32m---> 52\u001b[0;31m \u001b[0mi\u001b[0m \u001b[0;34m=\u001b[0m \u001b[0mlen\u001b[0m\u001b[0;34m(\u001b[0m\u001b[0mdst\u001b[0m\u001b[0;34m)\u001b[0m\u001b[0;34m\u001b[0m\u001b[0;34m\u001b[0m\u001b[0m\n\u001b[0m\u001b[1;32m     53\u001b[0m \u001b[0mprint\u001b[0m\u001b[0;34m(\u001b[0m\u001b[0mpow\u001b[0m\u001b[0;34m(\u001b[0m\u001b[0mb_vsum\u001b[0m \u001b[0;34m/\u001b[0m \u001b[0mi\u001b[0m\u001b[0;34m,\u001b[0m \u001b[0;36m0.5\u001b[0m\u001b[0;34m)\u001b[0m\u001b[0;34m)\u001b[0m\u001b[0;34m\u001b[0m\u001b[0;34m\u001b[0m\u001b[0m\n\u001b[1;32m     54\u001b[0m \u001b[0mprint\u001b[0m\u001b[0;34m(\u001b[0m\u001b[0mpow\u001b[0m\u001b[0;34m(\u001b[0m\u001b[0mg_vsum\u001b[0m \u001b[0;34m/\u001b[0m \u001b[0mi\u001b[0m\u001b[0;34m,\u001b[0m \u001b[0;36m0.5\u001b[0m\u001b[0;34m)\u001b[0m\u001b[0;34m)\u001b[0m\u001b[0;34m\u001b[0m\u001b[0;34m\u001b[0m\u001b[0m\n",
      "\u001b[0;31mNameError\u001b[0m: name 'dst' is not defined"
     ]
    }
   ],
   "source": [
    "'''\n",
    "dst = GTA5DataSet(root='/home/jay/data/GTA5',\n",
    "        list_path='/home/jay/code_jay/graph_domain_all/graph_domain_master/core/dataset/gta5_list/train.txt',\n",
    "        mirror_prob=0,\n",
    "        crop_size=(1280, 720))\n",
    "trainloader = data.DataLoader(dst, batch_size=1,\n",
    "                                    num_workers=1,\n",
    "                                    shuffle=True,\n",
    "                                    pin_memory=True)\n",
    "'''\n",
    "target_dataset = CityscapesDataSet(root=cfg.DATASET.TARGET_DIR,\n",
    "                                list_path=cfg.DATASET.EVAL_LIST,\n",
    "                                mirror_prob=0,\n",
    "                                crop_size=cfg.DATASET.INPUT_SIZE_TARGET,\n",
    "                                set='val')\n",
    "trainloader_t = data.DataLoader(target_dataset, batch_size=1,\n",
    "                                    num_workers=1,\n",
    "                                    shuffle=True,\n",
    "                                    pin_memory=True)\n",
    "#feature_extractor = ResBackbone().cuda(0)\n",
    "\n",
    "b_sum = 0\n",
    "g_sum = 0\n",
    "r_sum = 0\n",
    "\n",
    "for i, dat in enumerate(trainloader_t):\n",
    "    imgs, labels, _, name = dat\n",
    "    img = imgs[0]\n",
    "    b_sum += torch.mean(img[2])\n",
    "    g_sum += torch.mean(img[1])\n",
    "    r_sum += torch.mean(img[0])\n",
    "    if i % 1000 == 999:\n",
    "        print(i)\n",
    "i = len(trainloader_t)\n",
    "b_ave = b_sum / i\n",
    "g_ave = g_sum / i\n",
    "r_ave = r_sum / i\n",
    "\n",
    "print('b_ave', b_ave)\n",
    "print('g_ave', g_ave)\n",
    "print('r_ave', r_ave)\n",
    "\n",
    "b_vsum = 0\n",
    "g_vsum = 0\n",
    "r_vsum = 0\n",
    "for i, dat in enumerate(trainloader_t):\n",
    "    imgs, labels, _, name = dat\n",
    "    img = imgs[0]\n",
    "    b_vsum += torch.mean((img[2] - b_ave).pow(2))\n",
    "    g_vsum += torch.mean((img[1] - g_ave).pow(2))\n",
    "    r_vsum += torch.mean((img[0] - r_ave).pow(2))\n",
    "    if i % 1000 == 999:\n",
    "        print(i)\n",
    "i = len(trainloader_t)\n",
    "print(pow(b_vsum / i, 0.5))\n",
    "print(pow(g_vsum / i, 0.5))\n",
    "print(pow(r_vsum / i, 0.5))"
   ]
  },
  {
   "cell_type": "code",
   "execution_count": 6,
   "metadata": {},
   "outputs": [
    {
     "name": "stdout",
     "output_type": "stream",
     "text": [
      "999\n",
      "1999\n",
      "b_ave tensor(72.4246)\n",
      "g_ave tensor(82.9467)\n",
      "r_ave tensor(73.1909)\n",
      "999\n",
      "1999\n",
      "tensor(47.6189)\n",
      "tensor(49.5054)\n",
      "tensor(47.5524)\n"
     ]
    }
   ],
   "source": [
    "b_sum_t = 0\n",
    "g_sum_t = 0\n",
    "r_sum_t = 0\n",
    "\n",
    "for i, dat in enumerate(trainloader_t):\n",
    "    imgs, labels, _, name = dat\n",
    "    img = imgs[0]\n",
    "    b_sum_t += torch.mean(img[2])\n",
    "    g_sum_t += torch.mean(img[1])\n",
    "    r_sum_t += torch.mean(img[0])\n",
    "    if i % 1000 == 999:\n",
    "        print(i)\n",
    "b_ave_t = b_sum_t / i\n",
    "g_ave_t = g_sum_t / i\n",
    "r_ave_t = r_sum_t / i\n",
    "print('b_ave', b_ave_t)\n",
    "print('g_ave', g_ave_t)\n",
    "print('r_ave', r_ave_t)\n",
    "b_vsum_t = 0\n",
    "g_vsum_t = 0\n",
    "r_vsum_t = 0\n",
    "for i, dat in enumerate(trainloader_t):\n",
    "    imgs, labels, _, name = dat\n",
    "    img = imgs[0]\n",
    "    b_vsum_t += torch.mean((img[2] - b_ave_t).pow(2))\n",
    "    g_vsum_t += torch.mean((img[1] - b_ave_t).pow(2))\n",
    "    r_vsum_t += torch.mean((img[0] - b_ave_t).pow(2))\n",
    "    if i % 1000 == 999:\n",
    "        print(i)\n",
    "i = len(target_dataset)\n",
    "print(pow(b_vsum_t / i, 0.5))\n",
    "print(pow(g_vsum_t / i, 0.5))\n",
    "print(pow(r_vsum_t / i, 0.5))"
   ]
  },
  {
   "cell_type": "code",
   "execution_count": 5,
   "metadata": {},
   "outputs": [],
   "source": [
    "# test intra_graph\n",
    "from graph import Intra_graph\n",
    "b, c, w, h = feature.shape\n",
    "intra = Intra_graph(c, w*h).cuda(0)\n",
    "output = intra(feature)"
   ]
  },
  {
   "cell_type": "code",
   "execution_count": 29,
   "metadata": {},
   "outputs": [
    {
     "name": "stderr",
     "output_type": "stream",
     "text": [
      "<ipython-input-29-eaed7ee11c48>:2: UserWarning: To copy construct from a tensor, it is recommended to use sourceTensor.clone().detach() or sourceTensor.clone().detach().requires_grad_(True), rather than torch.tensor(sourceTensor).\n",
      "  a = torch.tensor(a, requires_grad=True)\n"
     ]
    }
   ],
   "source": [
    "a = torch.rand([1, 2048, 65, 129], dtype=torch.float64)\n",
    "a = torch.tensor(a, requires_grad=True)"
   ]
  },
  {
   "cell_type": "code",
   "execution_count": 44,
   "metadata": {},
   "outputs": [
    {
     "data": {
      "text/plain": [
       "tensor([[ 0.0036,  0.0035,  0.0018,  ..., -0.0025, -0.0070,  0.0027],\n",
       "        [-0.0069, -0.0143,  0.0128,  ..., -0.0196, -0.0035, -0.0121],\n",
       "        [-0.0023,  0.0010, -0.0105,  ...,  0.0058,  0.0083,  0.0162],\n",
       "        ...,\n",
       "        [ 0.0224, -0.0136, -0.0180,  ..., -0.0130,  0.0179, -0.0219],\n",
       "        [-0.0129, -0.0035,  0.0039,  ...,  0.0058, -0.0050,  0.0167],\n",
       "        [-0.0091, -0.0030,  0.0075,  ..., -0.0084,  0.0018, -0.0093]])"
      ]
     },
     "execution_count": 44,
     "metadata": {},
     "output_type": "execute_result"
    }
   ],
   "source": [
    "import torch.nn as nn\n",
    "aggregation = nn.Parameter(torch.Tensor(65 * 129, 64))\n",
    "aggregation.data.normal_(0, 0.01)"
   ]
  },
  {
   "cell_type": "code",
   "execution_count": 25,
   "metadata": {},
   "outputs": [
    {
     "name": "stdout",
     "output_type": "stream",
     "text": [
      "tensor([[[[ 3.1658e-04, -6.1308e-03, -6.9991e-04,  ..., -8.0380e-03,\n",
      "            1.7819e-02, -4.8902e-03],\n",
      "          [ 5.3149e-03, -7.3528e-03, -2.7540e-03,  ...,  9.5286e-03,\n",
      "           -1.8049e-02, -1.5011e-02],\n",
      "          [ 3.8582e-03,  1.7273e-02,  8.9801e-03,  ..., -1.1359e-02,\n",
      "           -2.1607e-03, -9.9767e-03],\n",
      "          ...,\n",
      "          [ 5.1347e-03,  4.2202e-03, -5.7489e-03,  ...,  2.1510e-03,\n",
      "           -1.4943e-02,  1.5902e-02],\n",
      "          [-1.0333e-02, -4.7433e-03, -3.3228e-03,  ..., -1.3912e-03,\n",
      "            7.7475e-03,  8.6366e-03],\n",
      "          [ 6.0808e-03,  2.4093e-03, -4.2250e-03,  ...,  1.3362e-02,\n",
      "            8.0860e-03, -1.0447e-03]],\n",
      "\n",
      "         [[ 7.1683e-04,  1.6993e-02, -8.6012e-03,  ...,  2.8486e-04,\n",
      "           -2.4823e-03, -1.9707e-02],\n",
      "          [-1.3499e-03,  2.4576e-02, -1.2111e-02,  ...,  2.8867e-03,\n",
      "            2.0691e-03, -6.6649e-04],\n",
      "          [-1.7788e-03, -3.4635e-03,  5.4827e-03,  ...,  4.2018e-03,\n",
      "            3.7714e-03, -9.0864e-03],\n",
      "          ...,\n",
      "          [-7.7752e-03,  1.0587e-02,  8.0985e-03,  ...,  6.5770e-04,\n",
      "           -2.7553e-04, -8.4797e-03],\n",
      "          [-1.3425e-02, -3.5978e-03,  4.1607e-03,  ...,  4.4277e-03,\n",
      "            7.8072e-03,  3.2402e-03],\n",
      "          [-1.2049e-02, -2.7205e-03,  2.3523e-02,  ...,  8.4523e-03,\n",
      "           -1.3339e-02, -4.7983e-03]],\n",
      "\n",
      "         [[-4.9338e-03, -1.7574e-02, -2.8808e-03,  ...,  1.2938e-02,\n",
      "            8.8600e-03,  3.3310e-03],\n",
      "          [ 4.4594e-03,  7.1062e-03, -1.4781e-02,  ..., -3.1082e-03,\n",
      "            1.2095e-03,  2.5052e-02],\n",
      "          [-5.5957e-03, -1.0069e-02, -4.6071e-04,  ...,  1.9816e-03,\n",
      "            4.9904e-03,  1.1173e-02],\n",
      "          ...,\n",
      "          [-6.2066e-03, -1.0421e-03, -1.4849e-02,  ..., -1.5906e-02,\n",
      "           -1.3188e-03,  1.7456e-02],\n",
      "          [ 6.8871e-03,  7.3073e-03, -6.8306e-03,  ..., -5.9927e-03,\n",
      "           -6.2944e-03,  2.2466e-03],\n",
      "          [ 4.8284e-03,  6.6461e-03,  1.8891e-02,  ...,  2.4152e-03,\n",
      "           -3.5386e-03, -1.4864e-02]]],\n",
      "\n",
      "\n",
      "        [[[ 2.2581e-03,  1.3162e-02,  4.9593e-03,  ..., -1.1895e-02,\n",
      "            9.3763e-03,  2.9608e-03],\n",
      "          [-5.1698e-03, -7.0196e-03, -9.9714e-03,  ..., -7.5121e-03,\n",
      "           -1.3261e-02, -5.5727e-03],\n",
      "          [-4.0282e-03, -1.6449e-02, -1.1375e-03,  ...,  8.8447e-03,\n",
      "           -2.1788e-02, -1.6704e-02],\n",
      "          ...,\n",
      "          [ 4.2367e-04, -2.1359e-03,  1.9131e-02,  ..., -4.0905e-03,\n",
      "           -3.9376e-03,  5.8672e-03],\n",
      "          [ 9.1678e-03, -1.0740e-04,  1.7113e-02,  ..., -4.0129e-03,\n",
      "            1.4011e-02,  1.7223e-02],\n",
      "          [-9.8317e-03, -2.3874e-03, -5.1230e-03,  ...,  1.1624e-02,\n",
      "           -6.8032e-03, -5.7908e-04]],\n",
      "\n",
      "         [[-2.7372e-03,  1.5017e-02,  1.4803e-03,  ..., -3.1970e-03,\n",
      "            5.4660e-03,  1.4948e-02],\n",
      "          [ 9.0878e-04, -3.6918e-03,  1.1703e-02,  ...,  3.8900e-03,\n",
      "            4.7881e-03,  1.3323e-02],\n",
      "          [ 1.8711e-02,  5.9368e-03, -7.0122e-03,  ..., -7.5475e-04,\n",
      "           -2.7412e-03, -1.1272e-02],\n",
      "          ...,\n",
      "          [ 1.4112e-02,  9.0238e-03, -1.5003e-02,  ...,  7.6400e-04,\n",
      "            1.4113e-03,  8.1555e-03],\n",
      "          [-1.3415e-02,  4.1356e-03, -4.3464e-03,  ..., -2.2234e-02,\n",
      "            4.1891e-03, -4.7858e-03],\n",
      "          [ 1.1229e-02,  2.9171e-04, -2.2981e-03,  ..., -1.5670e-02,\n",
      "            4.6437e-03,  2.9354e-03]],\n",
      "\n",
      "         [[ 7.5479e-03, -8.1196e-04, -1.4101e-02,  ...,  3.6316e-03,\n",
      "           -2.8531e-03,  2.4892e-02],\n",
      "          [-9.1330e-03, -6.2607e-03, -4.6886e-03,  ...,  8.3956e-03,\n",
      "           -1.3328e-03, -2.6482e-02],\n",
      "          [-8.9543e-03,  1.4748e-02,  7.7213e-03,  ...,  4.0912e-04,\n",
      "            1.7858e-02, -2.1721e-02],\n",
      "          ...,\n",
      "          [ 4.3269e-03, -5.9457e-03, -3.8880e-03,  ..., -8.2721e-03,\n",
      "            3.7394e-04,  1.2508e-02],\n",
      "          [ 4.1778e-03, -1.0094e-02, -3.8623e-03,  ...,  1.4620e-02,\n",
      "           -1.6697e-02, -3.1366e-03],\n",
      "          [ 2.5855e-03,  8.1801e-03, -1.0665e-02,  ...,  9.7140e-03,\n",
      "           -2.6241e-04,  1.3549e-03]]],\n",
      "\n",
      "\n",
      "        [[[ 1.3608e-02, -5.4810e-03, -8.0224e-04,  ..., -1.7862e-02,\n",
      "           -4.9684e-03,  1.5066e-03],\n",
      "          [ 5.6994e-03,  8.6170e-03, -3.2860e-04,  ..., -2.0597e-03,\n",
      "           -6.8582e-03, -1.1308e-02],\n",
      "          [-5.0176e-03,  1.4535e-03, -9.0465e-04,  ...,  4.1493e-04,\n",
      "           -9.8482e-03,  1.4968e-02],\n",
      "          ...,\n",
      "          [-4.5623e-03,  5.2769e-03, -3.6016e-03,  ..., -6.2302e-03,\n",
      "            3.5764e-03,  1.6803e-03],\n",
      "          [-9.8296e-03, -1.1165e-02, -8.7001e-03,  ..., -1.9745e-02,\n",
      "           -2.4947e-03, -5.4842e-04],\n",
      "          [-4.1437e-04,  2.2626e-03, -9.8261e-03,  ...,  1.3009e-03,\n",
      "           -5.0602e-03,  5.8718e-03]],\n",
      "\n",
      "         [[-1.4873e-02,  7.0634e-03,  7.4595e-03,  ...,  1.2436e-02,\n",
      "            2.4788e-03,  1.2619e-02],\n",
      "          [ 5.0440e-03,  5.1788e-03,  9.8744e-03,  ...,  1.4216e-02,\n",
      "            7.9506e-03,  7.2441e-03],\n",
      "          [ 1.1275e-02,  1.0728e-02, -5.7931e-03,  ...,  2.9140e-03,\n",
      "           -1.0947e-02,  1.0430e-03],\n",
      "          ...,\n",
      "          [ 1.5512e-02, -1.7049e-02, -1.0460e-02,  ..., -1.9941e-02,\n",
      "            3.0955e-04,  1.0310e-03],\n",
      "          [ 1.3740e-02, -4.2974e-04, -7.8804e-03,  ...,  1.4766e-02,\n",
      "            8.5849e-03, -1.8024e-03],\n",
      "          [ 3.0845e-03,  6.5115e-03, -2.1053e-02,  ...,  6.3775e-03,\n",
      "            4.1505e-03, -8.5820e-03]],\n",
      "\n",
      "         [[-3.6028e-03,  1.1844e-03, -2.4265e-02,  ..., -1.3079e-02,\n",
      "            5.3766e-03,  3.0203e-03],\n",
      "          [ 7.7529e-04, -2.9683e-02,  1.8363e-03,  ...,  3.3370e-03,\n",
      "            1.3056e-03, -3.3357e-03],\n",
      "          [ 1.9223e-02,  9.0696e-04, -2.0231e-02,  ..., -1.0871e-02,\n",
      "           -1.2686e-02,  1.5878e-02],\n",
      "          ...,\n",
      "          [-1.0924e-02,  4.6100e-03, -7.8732e-03,  ..., -5.8261e-03,\n",
      "            1.2765e-02,  6.0486e-03],\n",
      "          [ 1.7433e-03, -2.3256e-03,  2.6675e-03,  ...,  6.1876e-03,\n",
      "           -8.4997e-03,  1.7209e-03],\n",
      "          [ 9.0981e-05,  6.2629e-03,  3.3214e-03,  ..., -1.4001e-02,\n",
      "           -5.6008e-03,  1.2031e-02]]],\n",
      "\n",
      "\n",
      "        ...,\n",
      "\n",
      "\n",
      "        [[[ 7.5189e-03, -2.3714e-03, -4.7371e-04,  ...,  1.3156e-02,\n",
      "           -4.3625e-03, -2.1944e-03],\n",
      "          [ 6.8973e-03, -8.4964e-03,  1.0904e-02,  ...,  4.4515e-03,\n",
      "           -6.4621e-03, -1.6393e-02],\n",
      "          [ 6.5656e-03, -1.3635e-02, -2.4639e-02,  ...,  1.1583e-02,\n",
      "            5.9268e-04, -6.7771e-03],\n",
      "          ...,\n",
      "          [ 1.3809e-02, -3.8303e-03, -7.3839e-03,  ..., -2.4364e-03,\n",
      "           -1.9262e-03,  1.0750e-03],\n",
      "          [-1.0497e-03,  1.1426e-02,  1.0082e-02,  ..., -3.9517e-03,\n",
      "           -1.6623e-02, -6.8330e-03],\n",
      "          [ 2.5541e-03, -4.8269e-03, -4.8091e-03,  ...,  1.0034e-02,\n",
      "           -1.8574e-03,  8.6987e-04]],\n",
      "\n",
      "         [[ 7.1702e-03, -1.3246e-02, -3.2510e-03,  ..., -6.3106e-03,\n",
      "            3.1086e-03, -1.4146e-02],\n",
      "          [ 7.1534e-03, -7.8502e-03,  1.6983e-02,  ..., -9.3885e-03,\n",
      "            1.8446e-02, -8.9243e-03],\n",
      "          [ 1.4649e-03, -3.2010e-04,  2.6192e-02,  ...,  1.7483e-02,\n",
      "            7.9991e-03,  1.4570e-02],\n",
      "          ...,\n",
      "          [ 1.8413e-02, -4.8374e-04,  1.0682e-02,  ..., -1.7995e-02,\n",
      "           -6.9972e-03,  4.6077e-03],\n",
      "          [ 5.1828e-03,  1.8577e-02, -1.4106e-04,  ..., -1.8972e-02,\n",
      "            7.3694e-03, -1.4894e-03],\n",
      "          [ 1.3528e-02, -1.0798e-02,  1.1844e-02,  ...,  1.4259e-02,\n",
      "            1.0781e-02,  1.4092e-03]],\n",
      "\n",
      "         [[-7.7015e-03,  2.1938e-02, -1.9579e-04,  ..., -1.4199e-02,\n",
      "           -2.7969e-03,  2.0627e-03],\n",
      "          [-1.4055e-02, -2.2258e-03,  3.9252e-03,  ...,  9.4121e-03,\n",
      "           -1.9778e-02, -1.2785e-02],\n",
      "          [-1.5139e-02, -2.6221e-03,  3.4150e-03,  ..., -8.3267e-03,\n",
      "           -2.1456e-03, -1.3445e-02],\n",
      "          ...,\n",
      "          [-9.2680e-03,  9.0796e-03, -1.3333e-02,  ..., -1.8522e-04,\n",
      "            1.3401e-02, -1.0923e-02],\n",
      "          [ 5.1173e-03, -7.7285e-03,  1.8406e-05,  ..., -1.7780e-02,\n",
      "            3.9460e-03, -5.7893e-03],\n",
      "          [-4.2448e-03, -5.6299e-03,  1.3143e-02,  ...,  1.1244e-02,\n",
      "            2.9423e-03,  1.5228e-03]]],\n",
      "\n",
      "\n",
      "        [[[-6.0649e-03,  2.3963e-03,  1.0966e-02,  ..., -2.5649e-03,\n",
      "           -1.0261e-02,  1.1037e-03],\n",
      "          [ 1.1652e-02, -9.5624e-03,  6.0178e-03,  ...,  1.2379e-02,\n",
      "            1.0047e-02,  5.4122e-03],\n",
      "          [ 8.1287e-03,  2.3686e-03,  1.1882e-02,  ..., -4.5181e-04,\n",
      "           -2.9880e-04,  1.0560e-02],\n",
      "          ...,\n",
      "          [ 3.4208e-04, -7.8064e-03,  7.8354e-03,  ..., -1.7245e-02,\n",
      "            3.8640e-03,  8.7127e-03],\n",
      "          [-1.8229e-03,  1.2110e-02,  2.5180e-03,  ..., -3.6448e-04,\n",
      "           -8.7905e-03,  1.8377e-03],\n",
      "          [ 3.4617e-03, -3.8553e-03, -1.8886e-02,  ...,  6.1573e-03,\n",
      "            9.7631e-03,  1.2198e-02]],\n",
      "\n",
      "         [[-3.5636e-04, -6.2173e-03, -7.8024e-03,  ..., -8.1553e-03,\n",
      "            2.1837e-03, -1.0699e-02],\n",
      "          [ 1.0551e-03,  4.5648e-03, -6.8505e-03,  ...,  1.0567e-02,\n",
      "            6.2342e-03,  1.1173e-02],\n",
      "          [-3.4876e-03, -8.6343e-03,  1.2964e-02,  ..., -6.1941e-03,\n",
      "            8.4554e-03, -3.2467e-03],\n",
      "          ...,\n",
      "          [-1.9607e-02, -8.6020e-03, -5.8227e-03,  ..., -1.9181e-02,\n",
      "            5.4764e-03, -3.0668e-03],\n",
      "          [ 1.2333e-03,  1.0818e-02, -5.2056e-03,  ...,  1.3261e-03,\n",
      "            7.5968e-04, -6.4439e-03],\n",
      "          [ 2.7240e-03, -5.2040e-03, -1.5666e-03,  ...,  1.2213e-02,\n",
      "            4.2236e-03,  3.4540e-02]],\n",
      "\n",
      "         [[-8.9690e-03, -3.9295e-03,  1.1525e-02,  ..., -7.7987e-03,\n",
      "           -1.6376e-02, -1.3091e-02],\n",
      "          [-1.3383e-02, -1.5896e-03,  7.2448e-03,  ...,  9.9939e-03,\n",
      "            7.0554e-03, -2.3605e-03],\n",
      "          [ 1.3318e-02, -4.5642e-03, -1.5126e-03,  ..., -2.0895e-03,\n",
      "           -1.3378e-02, -1.1554e-02],\n",
      "          ...,\n",
      "          [-1.1884e-03,  3.8296e-03,  1.2893e-02,  ..., -7.8216e-03,\n",
      "            8.4138e-03,  3.0053e-03],\n",
      "          [-7.6256e-03,  9.5491e-03, -9.0568e-03,  ..., -7.9796e-03,\n",
      "           -1.3606e-03,  1.0323e-02],\n",
      "          [-1.1048e-02,  9.0406e-03, -7.3770e-03,  ...,  1.6998e-02,\n",
      "           -5.0577e-03, -9.6204e-03]]],\n",
      "\n",
      "\n",
      "        [[[ 7.8954e-03, -1.0566e-02, -1.0632e-02,  ...,  4.1681e-03,\n",
      "           -9.5125e-03,  5.5138e-03],\n",
      "          [ 3.5928e-03, -1.4147e-02, -1.1091e-02,  ...,  2.1535e-02,\n",
      "           -1.1057e-02, -1.7086e-02],\n",
      "          [-4.1142e-03, -1.2710e-02, -1.0396e-02,  ..., -5.1958e-03,\n",
      "            1.6811e-03, -1.9686e-02],\n",
      "          ...,\n",
      "          [-3.2515e-03, -8.2942e-03,  1.0072e-02,  ..., -1.4927e-02,\n",
      "            3.9484e-03, -1.1935e-02],\n",
      "          [-7.1125e-03, -4.8430e-03,  9.0411e-03,  ...,  1.6415e-02,\n",
      "            7.7914e-03, -1.0905e-03],\n",
      "          [-8.5720e-03,  1.4644e-02,  8.1242e-04,  ...,  1.3332e-02,\n",
      "           -3.9854e-03, -2.7662e-03]],\n",
      "\n",
      "         [[-1.6891e-02,  1.2724e-02,  8.5692e-03,  ..., -8.8075e-03,\n",
      "           -6.0657e-03,  1.7635e-02],\n",
      "          [ 1.5309e-03, -1.3749e-03,  2.1001e-02,  ..., -5.1016e-03,\n",
      "           -1.1172e-02,  1.4107e-02],\n",
      "          [ 5.4782e-03,  3.9399e-03, -7.6191e-03,  ..., -3.0508e-03,\n",
      "           -3.7725e-03, -5.2556e-03],\n",
      "          ...,\n",
      "          [-1.0596e-02, -1.9382e-02, -1.4777e-02,  ...,  1.3974e-02,\n",
      "            5.4315e-03,  7.2879e-03],\n",
      "          [-2.0457e-02, -2.7102e-03, -1.0189e-02,  ..., -1.8852e-03,\n",
      "           -8.7199e-03, -1.3970e-02],\n",
      "          [ 2.4636e-03,  1.7693e-02, -1.4220e-02,  ...,  3.5470e-03,\n",
      "            6.9978e-03,  2.0158e-03]],\n",
      "\n",
      "         [[-1.1721e-02, -2.9878e-04,  1.9086e-02,  ..., -1.4977e-04,\n",
      "            4.8312e-03,  2.8178e-03],\n",
      "          [ 1.9210e-02,  2.5700e-03, -2.9360e-03,  ..., -1.9837e-03,\n",
      "            1.5072e-02, -1.7213e-03],\n",
      "          [-9.5966e-03, -1.6250e-02, -3.7260e-03,  ..., -9.7402e-03,\n",
      "            3.2184e-03,  1.6266e-02],\n",
      "          ...,\n",
      "          [-6.9048e-03,  9.0646e-03,  1.1362e-03,  ..., -5.1414e-03,\n",
      "            6.8623e-03,  1.6091e-03],\n",
      "          [-4.7992e-03,  3.0464e-03, -6.6449e-03,  ..., -4.6498e-03,\n",
      "           -1.4947e-03, -2.3307e-02],\n",
      "          [ 8.7090e-03, -1.0962e-02,  2.4920e-03,  ...,  2.4354e-03,\n",
      "            5.6206e-03,  3.5031e-03]]]])\n",
      "tensor([1.0599, 1.1428, 1.0327, 2.6956, 0.9413, 1.2132, 1.3114, 1.2873, 0.8216,\n",
      "        0.4301, 1.3175, 1.2723, 1.1997, 0.8890, 2.1632, 1.0363, 0.9263, 0.4258,\n",
      "        0.2222, 1.1773, 1.5030, 0.8562, 1.0266, 0.9172, 0.8734, 1.1963, 1.9411,\n",
      "        2.4228, 1.8634, 0.9769, 1.1412, 1.0083, 0.9059, 1.5558, 1.0222, 0.0843,\n",
      "        0.8822, 1.1773, 2.3304, 1.2329, 0.2725, 0.7863, 0.9687, 1.3573, 1.0845,\n",
      "        0.9643, 0.6640, 1.3631, 0.1608, 1.0440, 1.0657, 0.9399, 2.1375, 1.6462,\n",
      "        0.9712, 1.6561, 0.1623, 1.0276, 1.4526, 1.2299, 0.9512, 1.2558, 1.2976,\n",
      "        1.0330])\n",
      "tensor([ 1.5109,  1.1912, -1.5507,  5.5692,  4.1227,  3.8662,  2.4118, -1.9174,\n",
      "         2.0000, -0.5886, -0.8319,  0.7031,  0.7446,  1.8414, -2.1196,  2.1292,\n",
      "         1.9398, -0.6859, -0.6139,  2.1333,  3.8824,  2.1246,  3.2474, -1.3359,\n",
      "         1.8148,  4.5201, -1.8213, -2.3871,  4.3798, -1.3828,  1.8148,  2.1161,\n",
      "         2.9416, -0.2778,  1.6150, -0.2342, -1.2759, -1.1110,  4.9906, -0.8860,\n",
      "        -0.7237,  2.3431,  1.8711,  3.0148,  3.1714,  1.9178, -0.7526,  3.3551,\n",
      "        -0.4114,  2.5678, -1.4499,  1.4976,  5.1115, -1.7639,  1.3939,  3.8715,\n",
      "        -1.0248,  1.2007,  2.7560, -1.5854,  2.2986,  0.9591,  2.7308,  1.0536])\n",
      "tensor([-3.8265e-01,  6.7655e-02, -7.5478e-01, -3.7940e+00, -3.6680e-01,\n",
      "        -1.4937e-01,  3.4858e+00, -2.4920e-01,  3.3470e-02, -4.9225e-01,\n",
      "         1.3280e+00,  6.4688e-02,  2.1430e-01,  2.6314e-02,  8.3041e-01,\n",
      "        -2.5642e-02,  1.4671e-02, -2.0181e-01,  3.8756e-05, -4.4137e-02,\n",
      "        -1.3394e-01,  3.7232e-02, -2.2893e+00,  2.6630e-01, -2.4691e-02,\n",
      "         3.3615e+00,  1.2464e+00, -2.9797e-01,  2.2828e+00, -5.3116e-01,\n",
      "        -2.3184e+00, -5.7579e-02,  4.2883e-02,  2.8043e+00,  9.9140e-02,\n",
      "         6.3125e-05, -4.2209e-01, -1.4657e-01, -2.3814e+00,  1.2016e+00,\n",
      "         2.0818e-05,  3.0250e-01,  2.7233e-02,  5.4815e-01, -4.2352e-02,\n",
      "         7.0705e-02, -2.3354e-01, -7.0052e-01,  3.3259e-04, -2.4160e-01,\n",
      "        -5.3792e-01, -5.0479e-02,  2.9423e+00,  3.7617e-01, -1.3386e-01,\n",
      "         1.4169e+00,  2.9574e-06, -8.4931e-02,  9.5865e-01,  2.9635e-01,\n",
      "         9.4730e-02, -3.7947e-01,  4.2207e-01,  1.7535e-01])\n",
      "tensor([5.2314e+03, 6.8113e+03, 2.2597e+03, 9.1367e+04, 1.0497e+03, 1.7676e+04,\n",
      "        2.8396e+04, 5.1667e+03, 1.1783e+03, 7.6114e+02, 6.0213e+03, 1.6944e+04,\n",
      "        1.8306e+04, 7.9781e+02, 9.8300e+03, 2.8076e+03, 2.3062e+03, 1.7197e+02,\n",
      "        7.1220e-06, 1.7982e+04, 2.9127e+04, 1.3559e+03, 1.5687e+04, 1.7727e+03,\n",
      "        1.2407e+03, 3.5627e+04, 1.0891e+04, 7.0110e+03, 4.3860e+04, 1.4637e+03,\n",
      "        1.3723e+04, 3.4228e+03, 1.7177e+03, 2.0970e+04, 3.6405e+03, 6.4114e-05,\n",
      "        7.7170e+02, 8.4830e+02, 4.1519e+04, 4.7309e+03, 1.7430e-06, 7.8255e+02,\n",
      "        2.4985e+03, 1.0030e+04, 6.5817e+03, 2.4338e+03, 2.5230e+02, 9.0975e+03,\n",
      "        6.5635e-04, 4.2915e+03, 1.0754e+03, 2.4100e+03, 4.3237e+04, 9.1144e+03,\n",
      "        2.8894e+03, 1.1271e+04, 2.3134e-08, 5.3922e+03, 1.2157e+04, 3.9399e+03,\n",
      "        2.2172e+03, 1.0386e+04, 1.7728e+04, 6.3393e+03])\n",
      "tensor(0)\n"
     ]
    }
   ],
   "source": [
    "# test GPGNet\n",
    "from GPG import GPGNet\n",
    "from config.config import cfg\n",
    "net = GPGNet(cfg)"
   ]
  },
  {
   "cell_type": "code",
   "execution_count": 3,
   "metadata": {},
   "outputs": [],
   "source": [
    "value = []\n",
    "for i in range(100):\n",
    "    t = i * 0.1 - 10\n",
    "    value.append(np.exp(t))"
   ]
  },
  {
   "cell_type": "code",
   "execution_count": 5,
   "metadata": {},
   "outputs": [
    {
     "data": {
      "text/plain": [
       "[<matplotlib.lines.Line2D at 0x7f8c4f08f490>]"
      ]
     },
     "execution_count": 5,
     "metadata": {},
     "output_type": "execute_result"
    },
    {
     "data": {
      "image/png": "[encoded data removed]",
      "text/plain": [
       "<Figure size 432x288 with 1 Axes>"
      ]
     },
     "metadata": {
      "needs_background": "light"
     },
     "output_type": "display_data"
    }
   ],
   "source": [
    "from matplotlib import pyplot as plt \n",
    "plt.plot(range(100), value)"
   ]
  },
  {
   "cell_type": "code",
   "execution_count": 17,
   "metadata": {},
   "outputs": [],
   "source": [
    "i = [a for a in range(15)]\n",
    "i = torch.tensor(i, dtype=torch.float64).resize(1,3,5)"
   ]
  },
  {
   "cell_type": "code",
   "execution_count": 23,
   "metadata": {},
   "outputs": [
    {
     "data": {
      "text/plain": [
       "tensor([[[ 0.,  1.,  2.,  3.,  4.],\n",
       "         [ 5.,  6.,  7.,  8.,  9.],\n",
       "         [10., 11., 12., 13., 14.]]], dtype=torch.float64)"
      ]
     },
     "execution_count": 23,
     "metadata": {},
     "output_type": "execute_result"
    },
    {
     "data": {
      "text/plain": [
       "tensor([[[10.],\n",
       "         [35.],\n",
       "         [60.]]], dtype=torch.float64)"
      ]
     },
     "execution_count": 23,
     "metadata": {},
     "output_type": "execute_result"
    },
    {
     "data": {
      "text/plain": [
       "tensor([[[0.0000, 0.1000, 0.2000, 0.3000, 0.4000],\n",
       "         [0.1429, 0.1714, 0.2000, 0.2286, 0.2571],\n",
       "         [0.1667, 0.1833, 0.2000, 0.2167, 0.2333]]], dtype=torch.float64)"
      ]
     },
     "execution_count": 23,
     "metadata": {},
     "output_type": "execute_result"
    }
   ],
   "source": [
    "i\n",
    "torch.sum(i, 2, keepdim=True)\n",
    "i / torch.sum(i, 2, keepdim=True)"
   ]
  },
  {
   "cell_type": "code",
   "execution_count": 15,
   "metadata": {},
   "outputs": [
    {
     "data": {
      "text/plain": [
       "tensor([[[ 5.0549e-03,  4.3054e-03,  1.3403e-38,  ..., -3.1653e-03,\n",
       "          -3.6852e-03,  6.7167e-03],\n",
       "         [ 9.1382e-03,  2.6103e-03,  1.2157e-02,  ...,  9.0222e-03,\n",
       "           1.3762e-02,  4.5121e-03],\n",
       "         [ 1.2048e-02,  2.3051e-02,  1.1827e-02,  ..., -5.0350e-03,\n",
       "          -1.1242e-02, -4.2551e-03],\n",
       "         ...,\n",
       "         [ 8.4135e-03,  7.5438e-03, -1.1599e-02,  ...,  1.0376e-02,\n",
       "           4.1477e-03,  8.7174e-03],\n",
       "         [-6.5140e-03, -1.1803e-02,  2.5545e-03,  ..., -3.4391e-03,\n",
       "          -1.2979e-02,  1.0771e-02],\n",
       "         [-9.5450e-03,  4.7929e-03,  9.7462e-03,  ..., -4.6366e-03,\n",
       "           6.6222e-04,  1.3596e-02]]])"
      ]
     },
     "execution_count": 15,
     "metadata": {},
     "output_type": "execute_result"
    },
    {
     "data": {
      "text/plain": [
       "False"
      ]
     },
     "execution_count": 15,
     "metadata": {},
     "output_type": "execute_result"
    }
   ],
   "source": [
    "a = torch.Tensor(1, 512, 64)\n",
    "a\n",
    "a.requires_grad"
   ]
  },
  {
   "cell_type": "code",
   "execution_count": 11,
   "metadata": {},
   "outputs": [
    {
     "data": {
      "text/plain": [
       "24966"
      ]
     },
     "execution_count": 11,
     "metadata": {},
     "output_type": "execute_result"
    }
   ],
   "source": [
    "len(dst)"
   ]
  },
  {
   "cell_type": "code",
   "execution_count": 26,
   "metadata": {},
   "outputs": [
    {
     "data": {
      "text/plain": [
       "torch.Size([2, 3, 1])"
      ]
     },
     "execution_count": 26,
     "metadata": {},
     "output_type": "execute_result"
    },
    {
     "data": {
      "text/plain": [
       "torch.Size([2, 10, 3])"
      ]
     },
     "execution_count": 26,
     "metadata": {},
     "output_type": "execute_result"
    }
   ],
   "source": [
    "a = [i for i in range(2*3*5)]\n",
    "b = [i for i in range(1*10*5)]\n",
    "a = np.array(a).reshape(2,3,5)\n",
    "a = torch.Tensor(a)\n",
    "a = F.softmax(a, 1)\n",
    "b = np.array(b).reshape(1,10,5)\n",
    "b = torch.Tensor(b)\n",
    "torch.sum(a, 2, keepdim=True).shape\n",
    "torch.sum(a, 2, keepdim=True).transpose(1, 2).repeat(1,10,1).shape"
   ]
  },
  {
   "cell_type": "code",
   "execution_count": 16,
   "metadata": {},
   "outputs": [],
   "source": []
  },
  {
   "cell_type": "code",
   "execution_count": 10,
   "metadata": {},
   "outputs": [
    {
     "data": {
      "text/plain": [
       "Net1(\n",
       "  (conv1): Conv2d(3, 32, kernel_size=(3, 3), stride=(1, 1), padding=(1, 1))\n",
       ")"
      ]
     },
     "execution_count": 10,
     "metadata": {},
     "output_type": "execute_result"
    },
    {
     "name": "stdout",
     "output_type": "stream",
     "text": [
      "True\n",
      "tensor([3.1250e-02, 1.2500e-05, 3.1250e-02, 0.0000e+00, 3.1250e-02, 0.0000e+00,\n",
      "        3.1250e-02, 1.2500e-05, 3.1250e-02, 3.1250e-02, 0.0000e+00, 0.0000e+00,\n",
      "        3.1250e-02, 1.2500e-03, 3.1250e-02, 1.2375e-03, 0.0000e+00, 0.0000e+00,\n",
      "        3.1250e-02, 1.2500e-05, 3.1250e-02, 3.1250e-02, 3.1250e-02, 3.1250e-02,\n",
      "        3.1250e-02, 6.2500e-04, 6.2500e-04, 6.2500e-04, 1.2375e-03, 3.1250e-02,\n",
      "        3.1250e-02, 6.2500e-04])\n"
     ]
    }
   ],
   "source": [
    "class Net1(torch.nn.Module):\n",
    "    def __init__(self):\n",
    "        super(Net1, self).__init__()\n",
    "        self.conv1 = torch.nn.Conv2d(3, 32, 3, 1, 1)\n",
    "\n",
    " \n",
    "    def forward(self, x):\n",
    "        x = F.max_pool2d(F.relu(self.conv1(x)), 2)\n",
    "        result = torch.mean(x)\n",
    "        \n",
    "        return result\n",
    "\n",
    "a = Net1()\n",
    "a.eval()\n",
    "print(a.conv1.bias.requires_grad)\n",
    "b = torch.ones(1,3,100,100)\n",
    "loss = a(b)\n",
    "loss.backward()\n",
    "print(a.conv1.bias.grad)"
   ]
  },
  {
   "cell_type": "code",
   "execution_count": null,
   "metadata": {},
   "outputs": [],
   "source": []
  }
 ],
 "metadata": {
  "kernelspec": {
   "display_name": "Python 3",
   "language": "python",
   "name": "python3"
  },
  "language_info": {
   "codemirror_mode": {
    "name": "ipython",
    "version": 3
   },
   "file_extension": ".py",
   "mimetype": "text/x-python",
   "name": "python",
   "nbconvert_exporter": "python",
   "pygments_lexer": "ipython3",
   "version": "3.8.3"
  }
 },
 "nbformat": 4,
 "nbformat_minor": 4
}
